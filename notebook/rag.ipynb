{
 "cells": [
  {
   "cell_type": "code",
   "execution_count": 7,
   "id": "43709455-67e3-49a0-88c0-914748ba987f",
   "metadata": {
    "tags": []
   },
   "outputs": [],
   "source": [
    "!pip install -U -q -r ../requirements.txt"
   ]
  },
  {
   "cell_type": "code",
   "execution_count": 8,
   "id": "5c2f7c26-c359-4257-8344-892403def72e",
   "metadata": {
    "tags": []
   },
   "outputs": [],
   "source": [
    "import os, sys\n",
    "from dotenv import load_dotenv"
   ]
  },
  {
   "cell_type": "code",
   "execution_count": 9,
   "id": "941dbe31-e8bf-4b54-b30d-8ec4774d9afb",
   "metadata": {
    "tags": []
   },
   "outputs": [],
   "source": [
    "rpath = os.path.abspath('/home/user/Documents/10/w7/PromptBuilder for RAG/backend')\n",
    "\n",
    "if rpath not in sys.path:\n",
    "    sys.path.insert(0, rpath)"
   ]
  },
  {
   "cell_type": "code",
   "execution_count": 10,
   "id": "abd574b8-d9c9-4d40-894d-3d47fcb4a3cc",
   "metadata": {
    "tags": []
   },
   "outputs": [],
   "source": [
    "from service.file_processor import FileProcessor\n",
    "from service.chroma_db_manager import ChromaDBManager\n",
    "from service.rag_processor import RAGProcessor"
   ]
  },
  {
   "cell_type": "code",
   "execution_count": 11,
   "id": "c6d14894-4f23-456b-b01a-f7405135ca61",
   "metadata": {
    "tags": []
   },
   "outputs": [
    {
     "data": {
      "text/plain": [
       "True"
      ]
     },
     "execution_count": 11,
     "metadata": {},
     "output_type": "execute_result"
    }
   ],
   "source": [
    "from dotenv import load_dotenv\n",
    "load_dotenv()"
   ]
  },
  {
   "cell_type": "code",
   "execution_count": 12,
   "id": "582e9991-7aa7-402a-b7d1-7af7f3c2ffbc",
   "metadata": {
    "tags": []
   },
   "outputs": [],
   "source": [
    "from langchain_openai import ChatOpenAI"
   ]
  },
  {
   "cell_type": "code",
   "execution_count": 13,
   "id": "a838e53b-1ec9-4823-b685-affabc99f1b1",
   "metadata": {
    "tags": []
   },
   "outputs": [],
   "source": [
    "llm = ChatOpenAI(api_key=os.getenv(\"OPENAI_API_KEY\"),model_name=\"gpt-3.5-turbo\", temperature=0)"
   ]
  },
  {
   "cell_type": "code",
   "execution_count": 22,
   "id": "1ff82b83-f08e-4ae9-b6b9-7dff5b6466b8",
   "metadata": {
    "tags": []
   },
   "outputs": [],
   "source": [
    "filePath = os.getenv(\"PATH_TO_TXT\")"
   ]
  },
  {
   "cell_type": "markdown",
   "id": "5f05de80-c197-432c-aa9d-4af0114e2466",
   "metadata": {
    "tags": []
   },
   "source": [
    "# Load and split the pdf file"
   ]
  },
  {
   "cell_type": "code",
   "execution_count": 25,
   "id": "e7174f47-8f00-42a7-8c98-23edbedf8eef",
   "metadata": {
    "tags": []
   },
   "outputs": [
    {
     "data": {
      "text/plain": [
       "Document(page_content='Secondhand cars left us hitchhiking on the side of the freeway. A secondhand car was also the reason my mom got married. If it hadn’t been for the Volkswagen that didn’t work, we never would have looked for the mechanic who became the husband who became the stepfather who became the man who tortured us for years and put a bullet in the back of my mother’s head—I’ll take the new car with the warranty every time.', metadata={'source': '../data/data.txt'})"
      ]
     },
     "execution_count": 25,
     "metadata": {},
     "output_type": "execute_result"
    }
   ],
   "source": [
    "file = FileProcessor(filePath)\n",
    "file.load_file()\n",
    "sp = file.split_file()\n",
    "sp[30]"
   ]
  },
  {
   "cell_type": "markdown",
   "id": "be830252-10f5-4a64-8ebc-388202207c56",
   "metadata": {},
   "source": [
    "# Create and store it to chroma_db"
   ]
  },
  {
   "cell_type": "code",
   "execution_count": 34,
   "id": "790b2a1f-6fb7-4ea9-9d62-8427f101e2be",
   "metadata": {
    "tags": []
   },
   "outputs": [
    {
     "data": {
      "text/plain": [
       "<langchain_chroma.vectorstores.Chroma at 0x7c6f939581d0>"
      ]
     },
     "execution_count": 34,
     "metadata": {},
     "output_type": "execute_result"
    }
   ],
   "source": [
    "chroma = ChromaDBManager()\n",
    "chromaDb= chroma.store_and_load_chroma_db(sp)\n",
    "chromaDb"
   ]
  },
  {
   "cell_type": "code",
   "execution_count": 38,
   "id": "17bd7c40-8d2f-467f-a932-36218c2ada60",
   "metadata": {
    "tags": []
   },
   "outputs": [
    {
     "data": {
      "text/plain": [
       "[(Document(page_content='My great-grandmother lived with us as well. We called her Koko. She was super old, well into her nineties, stooped and frail, completely blind. Her eyes had gone white, clouded over by cataracts. She couldn’t walk without someone holding her up. She’d sit in the kitchen next to the coal stove, bundled up in long skirts and head scarves, blankets over her', metadata={'source': '../data/data.txt'}),\n",
       "  0.2524379789829254),\n",
       " (Document(page_content='My great-grandmother lived with us as well. We called her Koko. She was super old, well into her nineties, stooped and frail, completely blind. Her eyes had gone white, clouded over by cataracts. She couldn’t walk without someone holding her up. She’d sit in the kitchen next to the coal stove, bundled up in long skirts and head scarves, blankets over her', metadata={'source': '../data/data.txt'}),\n",
       "  0.2524379789829254),\n",
       " (Document(page_content='My great-grandmother lived with us as well. We called her Koko. She was super old, well into her nineties, stooped and frail, completely blind. Her eyes had gone white, clouded over by cataracts. She couldn’t walk without someone holding her up. She’d sit in the kitchen next to the coal stove, bundled up in long skirts and head scarves, blankets over her', metadata={'source': '../data/data.txt'}),\n",
       "  0.2524379789829254),\n",
       " (Document(page_content='My grandmother Frances Noah was the family matriarch. She ran the house, looked after the kids, did the cooking and the cleaning. She’s barely five feet tall, hunched over from years in the factory, but rock hard and still to this day very active and very much alive. Where my grandfather was big and boisterous, my grandmother was calm, calculating, with a mind as sharp as anything. If you need to know anything in the family history, going back to the 1930s, she can tell you what day it happened, where it happened, and why it happened. She remembers it all.', metadata={'source': '../data/data.txt'}),\n",
       "  0.2786509096622467)]"
      ]
     },
     "execution_count": 38,
     "metadata": {},
     "output_type": "execute_result"
    }
   ],
   "source": [
    "chroma.search_chroma_db_with_score(\"grandmother\")"
   ]
  },
  {
   "cell_type": "markdown",
   "id": "d100bb9f-202a-4c8e-964f-063ce88bb682",
   "metadata": {
    "tags": []
   },
   "source": [
    "# RAG"
   ]
  },
  {
   "cell_type": "code",
   "execution_count": 40,
   "id": "137caa53-cf76-4520-b092-9c51b4a044e6",
   "metadata": {
    "tags": []
   },
   "outputs": [
    {
     "data": {
      "text/plain": [
       "VectorStoreRetriever(tags=['Chroma', 'OpenAIEmbeddings'], vectorstore=<langchain_chroma.vectorstores.Chroma object at 0x7c6f939581d0>, search_type='similarity_score_threshold', search_kwargs={'score_threshold': 0.5})"
      ]
     },
     "execution_count": 40,
     "metadata": {},
     "output_type": "execute_result"
    }
   ],
   "source": [
    "rag_processor = RAGProcessor(llm)\n",
    "rag_processor.create_rag(chromaDb)\n",
    "      "
   ]
  },
  {
   "cell_type": "code",
   "execution_count": 42,
   "id": "5c082052-68d1-4f52-85bc-5daf1268846a",
   "metadata": {
    "tags": []
   },
   "outputs": [
    {
     "data": {
      "text/plain": [
       "{\n",
       "  context: RunnableLambda(itemgetter('question'))\n",
       "           | VectorStoreRetriever(tags=['Chroma', 'OpenAIEmbeddings'], vectorstore=<langchain_chroma.vectorstores.Chroma object at 0x7c6f939581d0>, search_type='similarity_score_threshold', search_kwargs={'score_threshold': 0.5}),\n",
       "  question: RunnableLambda(itemgetter('question'))\n",
       "}\n",
       "| RunnableAssign(mapper={\n",
       "    context: RunnableLambda(itemgetter('context'))\n",
       "  })\n",
       "| {\n",
       "    response: ChatPromptTemplate(input_variables=['context', 'question'], messages=[HumanMessagePromptTemplate(prompt=PromptTemplate(input_variables=['context', 'question'], template=\"Create a question based only on the following context, please respond with 'I don't know':\\n            {question}\\n            Context:\\n            {context}\\n            \"))])\n",
       "              | ChatOpenAI(client=<openai.resources.chat.completions.Completions object at 0x7c6f8ed5cfd0>, async_client=<openai.resources.chat.completions.AsyncCompletions object at 0x7c6f8ed64850>, temperature=0.0, openai_api_key=SecretStr('**********'), openai_proxy=''),\n",
       "    context: RunnableLambda(itemgetter('context'))\n",
       "  }"
      ]
     },
     "execution_count": 42,
     "metadata": {},
     "output_type": "execute_result"
    }
   ],
   "source": [
    "# create the chain with the templet \n",
    "chain = rag_processor.process_rag_chain() \n",
    "chain"
   ]
  },
  {
   "cell_type": "code",
   "execution_count": 48,
   "id": "880d1d90-6a4a-4e95-b669-0bb6a6d8c04d",
   "metadata": {
    "tags": []
   },
   "outputs": [
    {
     "data": {
      "text/plain": [
       "\"What kind of conversations did Koko have with the narrator's gran?\""
      ]
     },
     "execution_count": 48,
     "metadata": {},
     "output_type": "execute_result"
    }
   ],
   "source": [
    "prompt = \"tell me what you know about Koko\"\n",
    "\n",
    "reault= rag_processor.invoker(prompt)\n",
    "reault[\"response\"].content"
   ]
  },
  {
   "cell_type": "code",
   "execution_count": null,
   "id": "52fabe9f-4aa9-4c3e-b4ac-b009675da9fe",
   "metadata": {},
   "outputs": [],
   "source": []
  },
  {
   "cell_type": "code",
   "execution_count": null,
   "id": "6a323b79-0222-42a7-b1fb-dfcc3649c95d",
   "metadata": {},
   "outputs": [],
   "source": []
  }
 ],
 "metadata": {
  "kernelspec": {
   "display_name": "Python 3 (ipykernel)",
   "language": "python",
   "name": "python3"
  },
  "language_info": {
   "codemirror_mode": {
    "name": "ipython",
    "version": 3
   },
   "file_extension": ".py",
   "mimetype": "text/x-python",
   "name": "python",
   "nbconvert_exporter": "python",
   "pygments_lexer": "ipython3",
   "version": "3.11.7"
  }
 },
 "nbformat": 4,
 "nbformat_minor": 5
}
